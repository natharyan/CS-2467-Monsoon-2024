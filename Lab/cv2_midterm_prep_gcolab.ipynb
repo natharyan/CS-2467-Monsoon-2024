{
  "nbformat": 4,
  "nbformat_minor": 0,
  "metadata": {
    "colab": {
      "provenance": []
    },
    "kernelspec": {
      "name": "python3",
      "display_name": "Python 3"
    },
    "language_info": {
      "name": "python"
    }
  },
  "cells": [
    {
      "cell_type": "code",
      "source": [
        "#imports\n",
        "import numpy as np\n",
        "import cv2 as cv\n",
        "import matplotlib.pyplot as plt"
      ],
      "metadata": {
        "id": "08apLWgBQnbQ"
      },
      "execution_count": null,
      "outputs": []
    },
    {
      "cell_type": "markdown",
      "source": [
        "TODO if time: vectorization"
      ],
      "metadata": {
        "id": "2-QBjOPGRAa9"
      }
    },
    {
      "cell_type": "markdown",
      "source": [
        "convolution, edge detection (sobel), corner detection, ransac - done in assignments"
      ],
      "metadata": {
        "id": "Ar_SdP7wPbT6"
      }
    },
    {
      "cell_type": "code",
      "source": [
        "#hough transform"
      ],
      "metadata": {
        "id": "E3ugveuGPX0K"
      },
      "execution_count": null,
      "outputs": []
    },
    {
      "cell_type": "code",
      "execution_count": null,
      "metadata": {
        "colab": {
          "base_uri": "https://localhost:8080/"
        },
        "id": "cuO8d3R0OQOo",
        "outputId": "78ea9dba-fea5-4c3a-86ed-35aecf0ff638"
      },
      "outputs": [
        {
          "output_type": "stream",
          "name": "stdout",
          "text": [
            "[[-100, -100, -1, 0, 0, 0, 12000, 12000, 120], [0, 0, 0, -100, -100, -1, 12000, 12000, 120]]\n",
            "[[-100, -100, -1, 0, 0, 0, 12000, 12000, 120], [0, 0, 0, -100, -100, -1, 12000, 12000, 120], [-200, -100, -1, 0, 0, 0, 48000, 24000, 240], [0, 0, 0, -200, -100, -1, 20000, 10000, 100]]\n",
            "[[-100, -100, -1, 0, 0, 0, 12000, 12000, 120], [0, 0, 0, -100, -100, -1, 12000, 12000, 120], [-200, -100, -1, 0, 0, 0, 48000, 24000, 240], [0, 0, 0, -200, -100, -1, 20000, 10000, 100], [-200, -200, -1, 0, 0, 0, 44000, 44000, 220], [0, 0, 0, -200, -200, -1, 50000, 50000, 250]]\n",
            "[[-100, -100, -1, 0, 0, 0, 12000, 12000, 120], [0, 0, 0, -100, -100, -1, 12000, 12000, 120], [-200, -100, -1, 0, 0, 0, 48000, 24000, 240], [0, 0, 0, -200, -100, -1, 20000, 10000, 100], [-200, -200, -1, 0, 0, 0, 44000, 44000, 220], [0, 0, 0, -200, -200, -1, 50000, 50000, 250], [-100, -200, -1, 0, 0, 0, 10000, 20000, 100], [0, 0, 0, -100, -200, -1, 20000, 40000, 200]]\n",
            "hey [[ -100  -100    -1     0     0     0 12000 12000   120]\n",
            " [    0     0     0  -100  -100    -1 12000 12000   120]\n",
            " [ -200  -100    -1     0     0     0 48000 24000   240]\n",
            " [    0     0     0  -200  -100    -1 20000 10000   100]\n",
            " [ -200  -200    -1     0     0     0 44000 44000   220]\n",
            " [    0     0     0  -200  -200    -1 50000 50000   250]\n",
            " [ -100  -200    -1     0     0     0 10000 20000   100]\n",
            " [    0     0     0  -100  -200    -1 20000 40000   200]]\n",
            "lemons [[ -100  -100    -1     0     0     0 12000 12000   120]\n",
            " [    0     0     0  -100  -100    -1 12000 12000   120]\n",
            " [ -200  -100    -1     0     0     0 48000 24000   240]\n",
            " [    0     0     0  -200  -100    -1 20000 10000   100]\n",
            " [ -200  -200    -1     0     0     0 44000 44000   220]\n",
            " [    0     0     0  -200  -200    -1 50000 50000   250]\n",
            " [ -100  -200    -1     0     0     0 10000 20000   100]\n",
            " [    0     0     0  -100  -200    -1 20000 40000   200]]\n",
            "u = [[ 0.13973602  0.01308615 -0.24290707 -0.33053601 -0.32766851  0.11856438\n",
            "  -0.68627905  0.46865936]\n",
            " [ 0.13973607  0.01312243  0.22838198 -0.35690205 -0.33922103 -0.22421638\n",
            "  -0.26935221 -0.75024645]\n",
            " [ 0.42180559 -0.66338299 -0.19261356  0.10494201 -0.43307745 -0.17556261\n",
            "   0.32803321  0.08891652]\n",
            " [ 0.17575474 -0.27637204  0.4192041  -0.62680937  0.26874582  0.43560256\n",
            "   0.21596873  0.12446003]\n",
            " [ 0.51235335  0.04800854 -0.48545671  0.15104429  0.32091641  0.47389384\n",
            "  -0.11812576 -0.36768222]\n",
            " [ 0.58221903  0.05463166  0.45660341  0.25704068  0.34003622 -0.40022565\n",
            "  -0.26864557  0.18842545]\n",
            " [ 0.17358326  0.30913609 -0.43898932 -0.51540903  0.22575844 -0.51119034\n",
            "   0.30945422  0.0888892 ]\n",
            " [ 0.34716262  0.61833931  0.19783642  0.07023746 -0.49819995  0.26272832\n",
            "   0.34689498  0.12448524]], \n",
            " s = [1.21430403e+05 2.41474075e+04 4.23608703e+02 1.59490493e+02\n",
            " 1.06212915e+02 2.79463702e+01 1.37847950e+01 4.19086238e-01],\n",
            " v = [[-1.79661526e-03 -1.59219995e-03 -1.02731951e-05 -1.64937790e-03\n",
            "  -1.79053520e-03 -1.02517362e-05  7.20157472e-01  6.93790132e-01\n",
            "   4.09624606e-03]\n",
            " [ 3.76241909e-03 -2.65007367e-04  1.21401114e-05 -7.78472717e-04\n",
            "  -4.48367936e-03 -1.69675092e-05 -6.93789417e-01  7.20153641e-01\n",
            "  -2.03037486e-04]\n",
            " [ 4.81113093e-01  5.39274260e-01  3.21043136e-03 -5.14114416e-01\n",
            "  -4.61856830e-01 -3.07365239e-03  2.92798686e-03 -2.92773230e-03\n",
            "  -7.15549158e-03]\n",
            " [ 2.09399586e-01  5.98357589e-01  3.69902133e-03  6.43425166e-01\n",
            "   2.06379157e-01  4.11581446e-03  2.59718746e-03  3.50272818e-03\n",
            "  -3.76141025e-01]\n",
            " [ 3.07149226e-01 -3.13148122e-01  2.01549038e-03 -3.57906675e-01\n",
            "   3.64176676e-01  2.15264721e-03  2.28831807e-03  2.15661939e-03\n",
            "  -7.39497927e-01]\n",
            " [-7.30100205e-01  4.70870538e-01  3.37413148e-03 -3.90983754e-01\n",
            "   2.27609049e-01 -2.64395176e-03 -2.44265224e-03  2.57200038e-03\n",
            "  -2.01319386e-01]\n",
            " [-3.11865878e-01 -1.77087024e-01  1.21088039e-02  2.01750567e-01\n",
            "  -7.48036853e-01 -1.80386687e-03  1.71412067e-03 -1.37066229e-03\n",
            "  -5.20540817e-01]\n",
            " [-4.09092115e-03  2.42814608e-03 -6.65215948e-01 -2.32876796e-03\n",
            "  -8.34356459e-03  7.46566448e-01  2.78531893e-06 -2.21893017e-06\n",
            "  -5.34901194e-03]\n",
            " [ 7.77141059e-04 -1.53073239e-03  7.46526411e-01 -3.59133368e-03\n",
            "   3.65020800e-03  6.65279846e-01 -2.47272155e-05 -4.12120258e-06\n",
            "   8.47790246e-03]]\n",
            "make lemonades [[ -100  -100    -1     0     0     0 12000 12000   120]\n",
            " [    0     0     0  -100  -100    -1 12000 12000   120]\n",
            " [ -200  -100    -1     0     0     0 48000 24000   240]\n",
            " [    0     0     0  -200  -100    -1 20000 10000   100]\n",
            " [ -200  -200    -1     0     0     0 44000 44000   220]\n",
            " [    0     0     0  -200  -200    -1 50000 50000   250]\n",
            " [ -100  -200    -1     0     0     0 10000 20000   100]\n",
            " [    0     0     0  -100  -200    -1 20000 40000   200]]\n",
            "Homography matrix:\n",
            " [[ 9.16666667e-02 -1.80555556e-01  8.80555556e+01]\n",
            " [-4.23611111e-01  4.30555556e-01  7.84722222e+01]\n",
            " [-2.91666667e-03 -4.86111111e-04  1.00000000e+00]]\n"
          ]
        }
      ],
      "source": [
        "def compute_homography(src, dst):\n",
        "    # Compute the homography matrix from source to destination points.\n",
        "    A = []\n",
        "    for i in range(len(src)):\n",
        "        x_src, y_src = src[i][0], src[i][1]\n",
        "        x_dst, y_dst = dst[i][0], dst[i][1]\n",
        "        A.append([-x_src, -y_src, -1, 0, 0, 0, x_src * x_dst, y_src * x_dst, x_dst])\n",
        "        A.append([0, 0, 0, -x_src, -y_src, -1, x_src * y_dst, y_src * y_dst, y_dst])\n",
        "        print(A)\n",
        "\n",
        "    A = np.array(A)\n",
        "    print('hey', A)\n",
        "    U, S, V = np.linalg.svd(A)\n",
        "    print('lemons', A)\n",
        "    print(f'u = {U}, \\n s = {S},\\n v = {V}', )\n",
        "    H = V[-1].reshape(3, 3)\n",
        "    print('make lemonades', A)\n",
        "\n",
        "    return H / H[-1, -1]  #normalizing\n",
        "\n",
        "src = np.array([[100, 100], [200, 100], [200, 200], [100, 200]])\n",
        "dst = np.array([[120, 120], [240, 100], [220, 250], [100, 200]])\n",
        "\n",
        "H = compute_homography(src, dst)\n",
        "print(\"Homography matrix:\\n\", H)"
      ]
    },
    {
      "cell_type": "code",
      "source": [
        "#normalizing 2d points in homogenous coordinates\n",
        "\"\"\"\n",
        "step 1: compute centroid\n",
        "step 2: translate points (place centroid at origin) - points[:, :2] - centroid\n",
        "step 3: compute avg distance from origin\n",
        "step 4: compute scaling factor (w/ mean distance sqrt(2))\n",
        "step 5: create the normalization matrix\n",
        "step 6: apply the normalization matrix to the points\n",
        " \"\"\"\n",
        "\n",
        "def normalize(points):\n",
        "    centroid = np.mean(points[:, :2], axis=0)\n",
        "    translated_points = points[:, :2] - centroid\n",
        "    avg_distance = np.mean(np.sqrt(np.sum(translated_points**2, axis=1)))\n",
        "    scaling_factor = np.sqrt(2) / avg_distance\n",
        "\n",
        "    T = np.array([[scaling_factor, 0, -scaling_factor * centroid[0]],\n",
        "                  [0, scaling_factor, -scaling_factor * centroid[1]],\n",
        "                  [0, 0, 1]])\n",
        "\n",
        "    nm_pts = (T @ points.T).T\n",
        "    return nm_pts, T\n",
        "\n",
        "\n",
        "points = np.array([[100, 100, 1],\n",
        "                   [200, 100, 1],\n",
        "                   [200, 200, 1],\n",
        "                   [100, 200, 1]])\n",
        "\n",
        "nm_pts, T = normalize(points)\n",
        "\n",
        "print(\"Normalized Points:\\n\", nm_pts)\n",
        "print(\"Normalization Matrix T:\\n\", T)"
      ],
      "metadata": {
        "id": "amyBN6ySOSnm",
        "colab": {
          "base_uri": "https://localhost:8080/"
        },
        "outputId": "eea05574-fa81-4d03-bf0e-2e28a14af046"
      },
      "execution_count": null,
      "outputs": [
        {
          "output_type": "stream",
          "name": "stdout",
          "text": [
            "Normalized Points:\n",
            " [[-1. -1.  1.]\n",
            " [ 1. -1.  1.]\n",
            " [ 1.  1.  1.]\n",
            " [-1.  1.  1.]]\n",
            "Normalization Matrix T:\n",
            " [[ 0.02  0.   -3.  ]\n",
            " [ 0.    0.02 -3.  ]\n",
            " [ 0.    0.    1.  ]]\n"
          ]
        }
      ]
    },
    {
      "cell_type": "markdown",
      "source": [
        "fixed some stuff w/ gpt from here:"
      ],
      "metadata": {
        "id": "uYJ9jZ8-5C63"
      }
    },
    {
      "cell_type": "code",
      "source": [
        "#applying homography - get points and apply\n",
        "\n",
        "def homography(points, H):\n",
        "    points_homogeneous = np.column_stack((points, np.ones(points.shape[0])))\n",
        "    transformed_homogeneous = points_homogeneous @ H.T\n",
        "    transformed_points = transformed_homogeneous[:, :2] / transformed_homogeneous[:, 2, np.newaxis]\n",
        "    return transformed_points\n",
        "\n",
        "points = np.array([[100, 100], [200, 100], [200, 200], [100, 200]])\n",
        "H = np.array([[1.5, 0, 50], [0, 1.5, 30], [0, 0, 1]])\n",
        "\n",
        "transformed_points = homography(points, H)\n",
        "print(\"Original Points:\\n\", points)\n",
        "print(\"Transformed Points:\\n\", transformed_points)"
      ],
      "metadata": {
        "id": "emfgmJjePHPj"
      },
      "execution_count": null,
      "outputs": []
    },
    {
      "cell_type": "code",
      "source": [
        "#project 3d points onto a 2d plane using the camera projection matrix P\n",
        "def threedto2d(P, points_3d):\n",
        "    points_2d = np.dot(np.column_stack((points_3d, np.ones(points_3d.shape[0]))), P.T)\n",
        "    return (points_2d[:, :2].T / points_2d[:, 2]).T\n",
        "\n",
        "points_3d = np.array([[1, 2, 3], [4, 5, 6], [7, 8, 9]])\n",
        "P = np.array([[1, 0, 0, 0], [0, 1, 0, 0], [0, 0, 1, 1]])\n",
        "\n",
        "points_2d = threedto2d(P, points_3d)\n",
        "print(\"Projected 2D points:\\n\", points_2d)"
      ],
      "metadata": {
        "id": "KmYCbPCWPR_y",
        "colab": {
          "base_uri": "https://localhost:8080/"
        },
        "outputId": "d623b933-319b-4a3d-bad8-83482a60f608"
      },
      "execution_count": null,
      "outputs": [
        {
          "output_type": "stream",
          "name": "stdout",
          "text": [
            "Projected 2D points:\n",
            " [[0.25       0.5       ]\n",
            " [0.57142857 0.71428571]\n",
            " [0.7        0.8       ]]\n"
          ]
        }
      ]
    },
    {
      "cell_type": "code",
      "source": [
        "# affine:\n",
        "\n",
        "# fitting affine transformation two 6 sets of points\n",
        "import numpy as np\n",
        "\n",
        "A = np.empty((0,6),int)\n",
        "B = np.array([])\n",
        "X = np.array([[100, 100], [200, 100], [200, 200]])\n",
        "X_transformed = np.array([[120, 120], [240, 100], [220, 250]])\n",
        "\n",
        "for i in range(len(X)):\n",
        "    A = np.append(A, np.array([[X[i][0],X[i][1],0,0,1,0]]),axis=0)\n",
        "    A = np.append(A,np.array([[0,0,X[i][0],X[i][1],0,1]]),axis=0)\n",
        "    B = np.append(B,[X_transformed[i][0],X_transformed[i][1]])\n",
        "\n",
        "print(A,B.T)\n",
        "\n",
        "print(\"Compute affine transformation matrix:\")\n",
        "M = np.linalg.solve(A,B.T)\n",
        "print(M)\n",
        "\n",
        "print(np.allclose(np.dot(A, M), B.T))"
      ],
      "metadata": {
        "id": "kcJEFvVhC6K5"
      },
      "execution_count": null,
      "outputs": []
    },
    {
      "cell_type": "code",
      "source": [
        "#compute the fundamental matrix (??? maybe - got an error last time)\n",
        "import numpy as np\n",
        "\n",
        "def compute_fundamental_matrix(pts1, pts2):\n",
        "    def normalize(points):\n",
        "        mean = np.mean(points, axis=0)\n",
        "        std_dev = np.std(points)\n",
        "        scale = np.sqrt(2) / std_dev\n",
        "        T = np.array([[scale, 0, -scale * mean[0]],\n",
        "                      [0, scale, -scale * mean[1]],\n",
        "                      [0, 0, 1]])\n",
        "        return np.dot(T, points.T).T, T\n",
        "\n",
        "    pts1_normalized, T1 = normalize(pts1)\n",
        "    pts2_normalized, T2 = normalize(pts2)\n",
        "\n",
        "    A = np.array([[x1 * x2, x1 * y2, x1, y1 * x2, y1 * y2, y1, x2, y2, 1]\n",
        "                  for (x1, y1), (x2, y2) in zip(pts1_normalized, pts2_normalized)])\n",
        "\n",
        "    _, _, V = np.linalg.svd(A)\n",
        "    F = V[-1].reshape(3, 3)\n",
        "\n",
        "    U, S, Vt = np.linalg.svd(F)\n",
        "    S[2] = 0\n",
        "    F = np.dot(U, np.dot(np.diag(S), Vt))\n",
        "\n",
        "    F = T2.T @ F @ T1\n",
        "\n",
        "    return F / F[-1, -1]\n",
        "\n",
        "pts1 = np.array([[100, 100, 1], [200, 100, 1], [200, 200, 1], [100, 200, 1],\n",
        "                 [150, 150, 1], [250, 150, 1], [250, 250, 1], [150, 250, 1]])\n",
        "pts2 = np.array([[120, 120, 1], [240, 100, 1], [220, 250, 1], [100, 200, 1],\n",
        "                 [170, 170, 1], [270, 150, 1], [270, 270, 1], [170, 270, 1]])\n",
        "\n",
        "F = compute_fundamental_matrix(pts1, pts2)\n",
        "print(\"Fundamental Matrix:\\n\", F)"
      ],
      "metadata": {
        "id": "KEUzvTNsPuv5"
      },
      "execution_count": null,
      "outputs": []
    },
    {
      "cell_type": "code",
      "source": [
        "#compute epipolar lines for the given fundamental matrix\n",
        "import numpy as np\n",
        "\n",
        "def compute_epipolar_lines(pts, F):\n",
        "    return np.dot(F, pts.T).T\n",
        "\n",
        "lines = compute_epipolar_lines(pts1, F)\n",
        "print(\"Epipolar Lines:\\n\", lines)"
      ],
      "metadata": {
        "id": "CkXo4nrnPyVU"
      },
      "execution_count": null,
      "outputs": []
    },
    {
      "cell_type": "code",
      "source": [
        "#look into moreeeeee\n",
        "import matplotlib.pyplot as plt\n",
        "\n",
        "def epipolar_lines(image_shape, lines, points, ax):\n",
        "    h, w = image_shape\n",
        "    for line, pt in zip(lines, points):\n",
        "        a, b, c = line\n",
        "        x0, x1 = 0, w\n",
        "        y0 = -(c + a * x0) / b\n",
        "        y1 = -(c + a * x1) / b\n",
        "        ax.plot([x0, x1], [y0, y1], color='red')\n",
        "        ax.plot(pt[0], pt[1], 'bo')\n",
        "\n",
        "fig, ax = plt.subplots(figsize=(8, 6))\n",
        "image_shape = (400, 400)\n",
        "ax.set_xlim(0, image_shape[1])\n",
        "ax.set_ylim(image_shape[0], 0)\n",
        "\n",
        "epipolar_lines(image_shape, lines, pts1, ax)\n",
        "\n",
        "ax.set_title(\"Epipolar Lines Visualization\")\n",
        "ax.set_xlabel(\"X-axis\")\n",
        "ax.set_ylabel(\"Y-axis\")\n",
        "plt.grid()\n",
        "plt.show()"
      ],
      "metadata": {
        "id": "kd-ErPmIQKuR"
      },
      "execution_count": null,
      "outputs": []
    },
    {
      "cell_type": "markdown",
      "source": [
        "j gpt-ed implementations:"
      ],
      "metadata": {
        "id": "sQaIv66QA_jT"
      }
    },
    {
      "cell_type": "code",
      "source": [
        "import numpy as np\n",
        "\n",
        "def median_filter(image, kernel_size=3):\n",
        "    # Pad the image to handle borders\n",
        "    pad_size = kernel_size // 2\n",
        "    padded_image = np.pad(image, pad_size, mode='edge')\n",
        "\n",
        "    # Prepare an output image\n",
        "    filtered_image = np.zeros_like(image)\n",
        "\n",
        "    # Iterate over every pixel in the image\n",
        "    for i in range(image.shape[0]):\n",
        "        for j in range(image.shape[1]):\n",
        "            # Extract the region of interest\n",
        "            region = padded_image[i:i + kernel_size, j:j + kernel_size]\n",
        "            # Compute the median of the region\n",
        "            filtered_image[i, j] = np.median(region)\n",
        "\n",
        "    return filtered_image\n",
        "\n",
        "# Example usage\n",
        "if __name__ == \"__main__\":\n",
        "    # Create a sample grayscale image (2D array)\n",
        "    sample_image = np.array([[100, 200, 100],\n",
        "                              [200, 50, 200],\n",
        "                              [100, 200, 100]], dtype=np.uint8)\n",
        "\n",
        "    # Apply the median filter\n",
        "    filtered_image = median_filter(sample_image, kernel_size=3)\n",
        "\n",
        "    print(\"Original Image:\")\n",
        "    print(sample_image)\n",
        "    print(\"Filtered Image:\")\n",
        "    print(filtered_image)"
      ],
      "metadata": {
        "id": "grkt9zAMBBOk"
      },
      "execution_count": null,
      "outputs": []
    },
    {
      "cell_type": "code",
      "source": [
        "#applying a gaussian filter\n",
        "import numpy as np\n",
        "\n",
        "def gaussian_kernel(size, sigma=1):\n",
        "    \"\"\"Generate a Gaussian kernel.\"\"\"\n",
        "    kernel = np.fromfunction(\n",
        "        lambda x, y: (1 / (2 * np.pi * sigma**2)) *\n",
        "                      np.exp(-((x - (size - 1) / 2)**2 + (y - (size - 1) / 2)**2) / (2 * sigma**2)),\n",
        "        (size, size)\n",
        "    )\n",
        "    return kernel / np.sum(kernel)\n",
        "\n",
        "def gaussian_filter(image, kernel_size=3, sigma=1):\n",
        "    \"\"\"Apply a Gaussian filter to an image.\"\"\"\n",
        "    # Create Gaussian kernel\n",
        "    kernel = gaussian_kernel(kernel_size, sigma)\n",
        "\n",
        "    # Pad the image to handle borders\n",
        "    pad_size = kernel_size // 2\n",
        "    padded_image = np.pad(image, pad_size, mode='edge')\n",
        "\n",
        "    # Prepare an output image\n",
        "    filtered_image = np.zeros_like(image)\n",
        "\n",
        "    # Iterate over every pixel in the image\n",
        "    for i in range(image.shape[0]):\n",
        "        for j in range(image.shape[1]):\n",
        "            # Extract the region of interest\n",
        "            region = padded_image[i:i + kernel_size, j:j + kernel_size]\n",
        "            # Apply the kernel (convolution)\n",
        "            filtered_image[i, j] = np.sum(region * kernel)\n",
        "\n",
        "    return filtered_image\n",
        "\n",
        "# Example usage\n",
        "if __name__ == \"__main__\":\n",
        "    # Create a sample grayscale image (2D array)\n",
        "    sample_image = np.array([[100, 200, 100],\n",
        "                              [200, 50, 200],\n",
        "                              [100, 200, 100]], dtype=np.float32)\n",
        "\n",
        "    # Apply the Gaussian filter\n",
        "    filtered_image = gaussian_filter(sample_image, kernel_size=3, sigma=1)\n",
        "\n",
        "    print(\"Original Image:\")\n",
        "    print(sample_image)\n",
        "    print(\"Filtered Image:\")\n",
        "    print(filtered_image)"
      ],
      "metadata": {
        "id": "QDMvZaqkBUkD"
      },
      "execution_count": null,
      "outputs": []
    },
    {
      "cell_type": "code",
      "source": [
        "#least squares\n",
        "import numpy as np\n",
        "import matplotlib.pyplot as plt\n",
        "\n",
        "# Example data: x (independent variable) and y (dependent variable)\n",
        "x = np.array([1, 2, 3, 4, 5])\n",
        "y = np.array([2, 3, 5, 7, 11])\n",
        "\n",
        "# Number of data points\n",
        "n = len(x)\n",
        "\n",
        "# Calculate the slope (m) and intercept (b) using least squares\n",
        "#j need this\n",
        "m = (n * np.sum(x * y) - np.sum(x) * np.sum(y)) / (n * np.sum(x**2) - (np.sum(x))**2)\n",
        "b = (np.sum(y) - m * np.sum(x)) / n\n",
        "\n",
        "# Print the results\n",
        "print(f\"Slope (m): {m:.2f}, Intercept (b): {b:.2f}\")\n",
        "\n",
        "# Calculate predicted values (y_hat)\n",
        "y_hat = m * x + b\n",
        "\n",
        "# Plotting the data points and the fitted line\n",
        "plt.scatter(x, y, color='blue', label='Data points')\n",
        "plt.plot(x, y_hat, color='red', label='Fitted line')\n",
        "plt.xlabel('Independent Variable (x)')\n",
        "plt.ylabel('Dependent Variable (y)')\n",
        "plt.title('Least Squares Linear Regression')\n",
        "plt.legend()\n",
        "plt.grid()\n",
        "plt.show()"
      ],
      "metadata": {
        "id": "QzEVlM8xB3wK"
      },
      "execution_count": null,
      "outputs": []
    },
    {
      "cell_type": "code",
      "source": [],
      "metadata": {
        "id": "9fxhTpksCQV1"
      },
      "execution_count": null,
      "outputs": []
    }
  ]
}