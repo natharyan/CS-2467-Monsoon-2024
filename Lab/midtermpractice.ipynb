{
 "cells": [
  {
   "cell_type": "code",
   "execution_count": 27,
   "metadata": {},
   "outputs": [
    {
     "name": "stdout",
     "output_type": "stream",
     "text": [
      "[[100 100   0   0   1   0]\n",
      " [  0   0 100 100   0   1]\n",
      " [200 100   0   0   1   0]\n",
      " [  0   0 200 100   0   1]\n",
      " [200 200   0   0   1   0]\n",
      " [  0   0 200 200   0   1]] [120. 120. 240. 100. 220. 250.]\n",
      "Compute affine transformation matrix:\n",
      "[  1.2  -0.2  -0.2   1.5  20.  -10. ]\n",
      "True\n"
     ]
    }
   ],
   "source": [
    "# fitting affine transformation two 6 sets of points\n",
    "import numpy as np\n",
    "\n",
    "A = np.empty((0,6),int)\n",
    "B = np.array([])\n",
    "X = np.array([[100, 100], [200, 100], [200, 200]])\n",
    "X_transformed = np.array([[120, 120], [240, 100], [220, 250]])\n",
    "\n",
    "for i in range(len(X)):\n",
    "    A = np.append(A, np.array([[X[i][0],X[i][1],0,0,1,0]]),axis=0)\n",
    "    A = np.append(A,np.array([[0,0,X[i][0],X[i][1],0,1]]),axis=0)\n",
    "    B = np.append(B,[X_transformed[i][0],X_transformed[i][1]])\n",
    "\n",
    "print(A,B.T)\n",
    "\n",
    "print(\"Compute affine transformation matrix:\")\n",
    "M = np.linalg.solve(A,B.T)\n",
    "print(M)\n",
    "\n",
    "print(np.allclose(np.dot(A, M), B.T))"
   ]
  },
  {
   "cell_type": "code",
   "execution_count": 3,
   "metadata": {},
   "outputs": [
    {
     "name": "stdout",
     "output_type": "stream",
     "text": [
      "[0.5 1.  1.5]\n",
      "[1 2 3 4 5 6] (6,)\n"
     ]
    }
   ],
   "source": [
    "print(np.array([1,2,3])/2)\n",
    "x1,x2 = np.linalg.solve([[1,2],[3,5]],[1,2])\n",
    "P = np.array([1,2,3,4,5,6]).T\n",
    "print(P,P.shape)"
   ]
  },
  {
   "cell_type": "code",
   "execution_count": 4,
   "metadata": {},
   "outputs": [],
   "source": [
    "# for homography use the medium one"
   ]
  },
  {
   "cell_type": "code",
   "execution_count": 14,
   "metadata": {},
   "outputs": [],
   "source": [
    "A = np.array([])\n",
    "A = np.append(A,[[1,2,3,0,0,0,-1,0,0]])\n",
    "A = np.append(A,[[0,0,0,1,2,3,0,-1,0]])"
   ]
  },
  {
   "cell_type": "code",
   "execution_count": 15,
   "metadata": {},
   "outputs": [
    {
     "data": {
      "text/plain": [
       "array([ 1.,  2.,  3.,  0.,  0.,  0., -1.,  0.,  0.,  0.,  0.,  0.,  1.,\n",
       "        2.,  3.,  0., -1.,  0.])"
      ]
     },
     "execution_count": 15,
     "metadata": {},
     "output_type": "execute_result"
    }
   ],
   "source": [
    "A"
   ]
  },
  {
   "cell_type": "code",
   "execution_count": null,
   "metadata": {},
   "outputs": [],
   "source": []
  }
 ],
 "metadata": {
  "kernelspec": {
   "display_name": "base",
   "language": "python",
   "name": "python3"
  },
  "language_info": {
   "codemirror_mode": {
    "name": "ipython",
    "version": 3
   },
   "file_extension": ".py",
   "mimetype": "text/x-python",
   "name": "python",
   "nbconvert_exporter": "python",
   "pygments_lexer": "ipython3",
   "version": "3.11.4"
  }
 },
 "nbformat": 4,
 "nbformat_minor": 2
}
